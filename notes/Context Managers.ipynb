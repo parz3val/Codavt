{
 "cells": [
  {
   "cell_type": "markdown",
   "metadata": {},
   "source": [
    "## Context Managers in Python\n",
    "Context managers allow us to manage the contexts (ressources and scope) of our block of operations. They are implmented with `with` statement.\n",
    "\n",
    "**The `with` statement** \n",
    "The with statement is used to wrap the execution of a block with methods defined by a context manager.\n",
    "The execution of with staement with one 'item' proceeds as follow:\n",
    "1. The context expression is evaluated to obtain the context manager.\n",
    "2. The context manager's `__enter__()` is loaded for later use.\n",
    "3. The context manager's `__exit__()` is loaded for later use\n",
    "4. The context manager's `__enter__()` is invoked.\n",
    "5. If a target was included in the with statement, the return value from `__enter__()` is assigned to it.\n",
    "6. The suite is executed.\n",
    "7. The context managers `__exit__()` method is invoked. If exception occurs, its type, value and traceback are passed as arguments to `__exit__()`, otherwise `None` arguments are supplied.\n",
    "\n",
    "If the suite was exited due to an exception, and return value from the `__exit__()` was false, the exception is reraised.\n",
    "\n",
    "If the return value was true, the exception is suppressed, and execution with the statement after `with` continues.\n",
    "\n",
    "If the exit was due to any other reason than exception, the return value from `__exit__()` is ignored, and execution proceeds at the normal location for the kind of exit.\n",
    "\n",
    "**Simple example of context managers is `with` `open` operation.**"
   ]
  },
  {
   "cell_type": "code",
   "execution_count": 1,
   "metadata": {},
   "outputs": [],
   "source": [
    "with open('some_file', 'w') as file:\n",
    "    file.write('Hola como estas!')"
   ]
  },
  {
   "cell_type": "markdown",
   "metadata": {},
   "source": [
    "The above code is equivalent to :\n"
   ]
  },
  {
   "cell_type": "code",
   "execution_count": 3,
   "metadata": {},
   "outputs": [],
   "source": [
    "file = open('some_file_1','w')\n",
    "try:\n",
    "    file.write('Hoa comoa trestas!')\n",
    "finally:\n",
    "    file.close()"
   ]
  },
  {
   "cell_type": "markdown",
   "metadata": {},
   "source": [
    "Compared to the first example, the second example has unnecessary boilerplate that we don't require. Andother advantage of `with` statement is that it makes sure our file is closed outside of our scope. A common use case of context manager is locking and unlocking the ressources and closing/opening files.\n",
    "\n",
    "**Now let's implment our own context manager** "
   ]
  },
  {
   "cell_type": "markdown",
   "metadata": {},
   "source": [
    "### Implementing a context manager as a Class\n",
    "If we are implementing it, our CM needs `__enter__` and `__exit` methods defined at least. Let's implement our own CM for the file handling"
   ]
  },
  {
   "cell_type": "code",
   "execution_count": 4,
   "metadata": {},
   "outputs": [],
   "source": [
    "# File handling context manager\n",
    "class HandleFile(object):\n",
    "    '''Handles the file operation as CM'''\n",
    "    def __init__(self, file_name, method):\n",
    "        self.file_obj = open(file_name, method)\n",
    "    def __enter__(self):\n",
    "        return self.file_obj\n",
    "    def __exit__(self, type, value, traceback):\n",
    "        self.file_obj.close()"
   ]
  },
  {
   "cell_type": "code",
   "execution_count": 6,
   "metadata": {},
   "outputs": [],
   "source": [
    "# Let's use our context manager\n",
    "with HandleFile('demo.txt','w') as opened_file:\n",
    "    opened_file.write('Arigato!')"
   ]
  },
  {
   "cell_type": "markdown",
   "metadata": {},
   "source": [
    "### Handling Exceptions\n",
    "Between 4th and 5th step if the error occurs, the `__exit__` method decides what to do with errors and exits the suite."
   ]
  },
  {
   "cell_type": "code",
   "execution_count": 7,
   "metadata": {},
   "outputs": [
    {
     "ename": "AttributeError",
     "evalue": "'_io.TextIOWrapper' object has no attribute 'function_is_not_defined'",
     "output_type": "error",
     "traceback": [
      "\u001b[0;31m--------------------------\u001b[0m",
      "\u001b[0;31mAttributeError\u001b[0mTraceback (most recent call last)",
      "\u001b[0;32m<ipython-input-7-b6460bdbdcf6>\u001b[0m in \u001b[0;36m<module>\u001b[0;34m\u001b[0m\n\u001b[1;32m      1\u001b[0m \u001b[0;32mwith\u001b[0m \u001b[0mHandleFile\u001b[0m\u001b[0;34m(\u001b[0m\u001b[0;34m'demo'\u001b[0m\u001b[0;34m,\u001b[0m\u001b[0;34m'w'\u001b[0m\u001b[0;34m)\u001b[0m \u001b[0;32mas\u001b[0m \u001b[0mopened_file\u001b[0m\u001b[0;34m:\u001b[0m\u001b[0;34m\u001b[0m\u001b[0;34m\u001b[0m\u001b[0m\n\u001b[0;32m----> 2\u001b[0;31m     \u001b[0mopened_file\u001b[0m\u001b[0;34m.\u001b[0m\u001b[0mfunction_is_not_defined\u001b[0m\u001b[0;34m(\u001b[0m\u001b[0;34m'LOL'\u001b[0m\u001b[0;34m)\u001b[0m\u001b[0;34m\u001b[0m\u001b[0;34m\u001b[0m\u001b[0m\n\u001b[0m",
      "\u001b[0;31mAttributeError\u001b[0m: '_io.TextIOWrapper' object has no attribute 'function_is_not_defined'"
     ]
    }
   ],
   "source": [
    "with HandleFile('demo','w') as opened_file:\n",
    "    opened_file.function_is_not_defined('LOL')"
   ]
  },
  {
   "cell_type": "markdown",
   "metadata": {},
   "source": [
    "Here, In our case `__exit__` method returns `None` therefore with stament raises the exceptions. Now let's try handling the exception in `__exit__` method\n"
   ]
  },
  {
   "cell_type": "code",
   "execution_count": 8,
   "metadata": {},
   "outputs": [],
   "source": [
    "class Filer(object):\n",
    "    def __init__(self, file_name, method):\n",
    "        self.file_obj = open(file_name, method)\n",
    "    def __enter__(self):\n",
    "        return self.file_obj\n",
    "    def __exit__(self, type, value, traceback):\n",
    "        print(f\"Exception was:\\n Type: {str(type)} \\nValue: {str(value)}\\nTraceback: {str(traceback)}\")"
   ]
  },
  {
   "cell_type": "code",
   "execution_count": 9,
   "metadata": {},
   "outputs": [
    {
     "name": "stdout",
     "output_type": "stream",
     "text": [
      "Exception was:\n",
      " Type: <class 'AttributeError'> \n",
      "Value: '_io.TextIOWrapper' object has no attribute 'function_is_not_defined'\n",
      "Traceback: <traceback object at 0x7fdebb2f3c80>\n"
     ]
    },
    {
     "ename": "AttributeError",
     "evalue": "'_io.TextIOWrapper' object has no attribute 'function_is_not_defined'",
     "output_type": "error",
     "traceback": [
      "\u001b[0;31m--------------------------\u001b[0m",
      "\u001b[0;31mAttributeError\u001b[0mTraceback (most recent call last)",
      "\u001b[0;32m<ipython-input-9-a0043194c6cd>\u001b[0m in \u001b[0;36m<module>\u001b[0;34m\u001b[0m\n\u001b[1;32m      1\u001b[0m \u001b[0;31m# Now let's see what happens if the error occurs\u001b[0m\u001b[0;34m\u001b[0m\u001b[0;34m\u001b[0m\u001b[0;34m\u001b[0m\u001b[0m\n\u001b[1;32m      2\u001b[0m \u001b[0;32mwith\u001b[0m \u001b[0mFiler\u001b[0m\u001b[0;34m(\u001b[0m\u001b[0;34m'demo'\u001b[0m\u001b[0;34m,\u001b[0m\u001b[0;34m'w'\u001b[0m\u001b[0;34m)\u001b[0m \u001b[0;32mas\u001b[0m \u001b[0mopened_file\u001b[0m\u001b[0;34m:\u001b[0m\u001b[0;34m\u001b[0m\u001b[0;34m\u001b[0m\u001b[0m\n\u001b[0;32m----> 3\u001b[0;31m     \u001b[0mopened_file\u001b[0m\u001b[0;34m.\u001b[0m\u001b[0mfunction_is_not_defined\u001b[0m\u001b[0;34m(\u001b[0m\u001b[0;34m'LOL'\u001b[0m\u001b[0;34m)\u001b[0m\u001b[0;34m\u001b[0m\u001b[0;34m\u001b[0m\u001b[0m\n\u001b[0m",
      "\u001b[0;31mAttributeError\u001b[0m: '_io.TextIOWrapper' object has no attribute 'function_is_not_defined'"
     ]
    }
   ],
   "source": [
    "# Now let's see what happens if the error occurs\n",
    "with Filer('demo','w') as opened_file:\n",
    "    opened_file.function_is_not_defined('LOL')"
   ]
  },
  {
   "cell_type": "markdown",
   "metadata": {},
   "source": [
    "**As we can see, we can access all of the details about our Exception and handle them gracefully**"
   ]
  },
  {
   "cell_type": "markdown",
   "metadata": {},
   "source": [
    "### Implementing context manager as a generator\n",
    "Context Managers can also be implemented using decorators and generators. Python has `contextlib` module for this very purpose. So, instead of a class -- we implment our CMs using a generator function."
   ]
  },
  {
   "cell_type": "code",
   "execution_count": 11,
   "metadata": {},
   "outputs": [],
   "source": [
    "# Basic context manger with yield and contxtlib\n",
    "from contextlib import contextmanager\n",
    "@contextmanager\n",
    "def open_file(name):\n",
    "    f = open(name,'w')\n",
    "    try:\n",
    "        yield f\n",
    "    finally:\n",
    "        f.close()\n"
   ]
  },
  {
   "cell_type": "markdown",
   "metadata": {},
   "source": [
    "Here,\n",
    "1. Python sees a `yield` keyword. Due to this it creates a generator instead of formal function.\n",
    "2. Due to the decoration context manger is called with the function name `open_file` as its argument.\n",
    "3. `contextmanager` decorator returns the generator wrapped by the `GeneratorContextManager` object\n",
    "4. The generator object is assigned to the open_file function, there when we later call the open_file function, we are calling the `GeneratorContextManagers` object."
   ]
  },
  {
   "cell_type": "code",
   "execution_count": 12,
   "metadata": {},
   "outputs": [],
   "source": [
    "# using generator context managers\n",
    "with open_file('some_stuff') as f:\n",
    "    f.write(\"Something something\")"
   ]
  },
  {
   "cell_type": "markdown",
   "metadata": {},
   "source": [
    "## Async Context Managers\n",
    "Async context manager is a context managers that is able to suspend execution in its `__aenter__` and `__aexit__` methods. They can be used with `async with` statement.\n",
    "\n",
    "The statement `aenter` and `aexit` are equivalent to `enter` and `exit` dunder methods\n",
    "\n",
    "**`async with`**\n",
    "```python\n",
    "async with EXPRESSION as TARGET:\n",
    "    SUITE\n",
    "```\n",
    "and is symantically equivalent to:\n",
    "```python\n",
    "manager = (EXPRESSION)\n",
    "aenter = type(manager).__aenter__\n",
    "aexit = type(manager).__aexit__\n",
    "value = await aenter(manager)\n",
    "hit_except = False\n",
    "\n",
    "try:\n",
    "    TARGET = value\n",
    "    SUITE\n",
    "except:\n",
    "    hit_except = True\n",
    "    if not await aexit(manager, *sys.exc_info()):\n",
    "        raise\n",
    "finally:\n",
    "    if not hit_except:\n",
    "        await aexit(manager, None, None, None)\n",
    "```"
   ]
  },
  {
   "cell_type": "code",
   "execution_count": 25,
   "metadata": {},
   "outputs": [],
   "source": [
    "# simple example of async context manager\n",
    "import time\n",
    "\n",
    "\n",
    "async def slow_msg(message: str, times: int):\n",
    "    for i in range(times):\n",
    "        print(message)\n",
    "        time.sleep(1)\n",
    "\n",
    "        \n",
    "async def log(message: str):\n",
    "    time.sleep(0.5)\n",
    "    print(message)\n",
    "    \n",
    "    \n",
    "class AsyncContextManager:\n",
    "    def __init__(self, frequency: int = 3, msg: str = \"Hello from async CM.\"):\n",
    "        self.frequency = frequency\n",
    "        self.msg = msg\n",
    "    async def __aenter__(self):\n",
    "        await log('Entering the context')\n",
    "        await slow_msg(self.msg, self.frequency)\n",
    "    async def __aexit__(self, exc_type, exc, tb):\n",
    "        await log(\"Exiting context\")"
   ]
  },
  {
   "cell_type": "markdown",
   "metadata": {},
   "source": [
    "**Here we have implemented a simple method that prints our message some number of times with 1 second gap, and we are using our AsyncContextManager to call and manage it**"
   ]
  },
  {
   "cell_type": "code",
   "execution_count": 26,
   "metadata": {},
   "outputs": [
    {
     "name": "stdout",
     "output_type": "stream",
     "text": [
      "Entering the context\n",
      "Hello World!\n",
      "Hello World!\n",
      "Hello World!\n",
      "Hello World!\n",
      "Hello World!\n",
      "Exiting context\n"
     ]
    }
   ],
   "source": [
    "async with AsyncContextManager(5,\"Hello World!\") as t:\n",
    "    pass\n",
    "     "
   ]
  },
  {
   "cell_type": "markdown",
   "metadata": {},
   "source": [
    "## Implementing async context managers with generators\n",
    "Similar to context managers, async context managers can be implemented with the decorator and generators. Python provides `asynccontextmanager` decorator for the job.\n",
    "\n",
    "This function is a decorator that can be used to define a factory function for async with statement async context managers, without needing to recreate class or separate async dunders."
   ]
  },
  {
   "cell_type": "code",
   "execution_count": 31,
   "metadata": {},
   "outputs": [],
   "source": [
    "# simple async context manager with decorator\n",
    "from contextlib import asynccontextmanager\n",
    "import time\n",
    "\n",
    "async def acquire_db_connection():\n",
    "    print(\"Acquiring db connection...\")\n",
    "    time.sleep(1)\n",
    "    print(\"Connection Acquired\")\n",
    "\n",
    "async def release_db_connection(conn):\n",
    "    print(\"Closing db\")\n",
    "    time.sleep(1)\n",
    "    print(\"Connection closed\")\n",
    "    \n",
    "@asynccontextmanager\n",
    "async def get_connection():\n",
    "    await acquire_db_connection()\n",
    "    try:\n",
    "        yield 5\n",
    "    finally:\n",
    "        await release_db_connection()"
   ]
  },
  {
   "cell_type": "code",
   "execution_count": null,
   "metadata": {},
   "outputs": [
    {
     "name": "stdout",
     "output_type": "stream",
     "text": [
      "Acquiring db connection...\n"
     ]
    }
   ],
   "source": [
    "async with get_connection() as conn:\n",
    "    print(\"Success\")"
   ]
  },
  {
   "cell_type": "code",
   "execution_count": null,
   "metadata": {},
   "outputs": [],
   "source": []
  }
 ],
 "metadata": {
  "kernelspec": {
   "display_name": "Python 3",
   "language": "python",
   "name": "python3"
  },
  "language_info": {
   "codemirror_mode": {
    "name": "ipython",
    "version": 3
   },
   "file_extension": ".py",
   "mimetype": "text/x-python",
   "name": "python",
   "nbconvert_exporter": "python",
   "pygments_lexer": "ipython3",
   "version": "3.8.3"
  }
 },
 "nbformat": 4,
 "nbformat_minor": 4
}
