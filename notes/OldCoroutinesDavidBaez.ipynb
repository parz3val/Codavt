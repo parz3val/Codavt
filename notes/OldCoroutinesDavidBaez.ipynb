{
 "cells": [
  {
   "cell_type": "markdown",
   "metadata": {},
   "source": [
    "## Some notes on Generator based co-routines\n",
    "\n",
    "- A generator is a function that produces a single sequence of results instead of a single value.\n",
    "\n",
    "- instead of returning value, you generate a series of values using the yield statment\n",
    "\n",
    "- usually hooks up to the for-loop\n",
    "\n",
    "- diff behavior than normal funcs\n",
    "- calling a generator function creates a generator object. However it doesn't start running the function\n"
   ]
  },
  {
   "cell_type": "code",
   "execution_count": null,
   "metadata": {},
   "outputs": [],
   "source": [
    "#simple generator\n",
    "def countdown(n):\n",
    "    print(\"Counting down from \", end = \" \")\n",
    "    while n > 0:\n",
    "        yield n\n",
    "        n -= 1"
   ]
  },
  {
   "cell_type": "code",
   "execution_count": null,
   "metadata": {},
   "outputs": [],
   "source": [
    "y = countdown(10)"
   ]
  },
  {
   "cell_type": "code",
   "execution_count": null,
   "metadata": {},
   "outputs": [],
   "source": [
    "y"
   ]
  },
  {
   "cell_type": "markdown",
   "metadata": {},
   "source": [
    "As we can see, calling the function doesn't generate output. It doens't start runing the function. The function only executes on `__next()__`\n",
    "\n",
    ">>important note: next() function has been renamed to `__next__()`"
   ]
  },
  {
   "cell_type": "code",
   "execution_count": null,
   "metadata": {},
   "outputs": [],
   "source": [
    "y.__next__()"
   ]
  },
  {
   "cell_type": "code",
   "execution_count": null,
   "metadata": {},
   "outputs": [],
   "source": [
    "next(y)"
   ]
  },
  {
   "cell_type": "markdown",
   "metadata": {},
   "source": [
    "Function resumes on the next call with `next()` or `__next__()`"
   ]
  },
  {
   "cell_type": "code",
   "execution_count": null,
   "metadata": {},
   "outputs": [],
   "source": [
    "y.__next__()"
   ]
  },
  {
   "cell_type": "code",
   "execution_count": null,
   "metadata": {},
   "outputs": [],
   "source": [
    "for i in y:\n",
    "    print(i)"
   ]
  },
  {
   "cell_type": "markdown",
   "metadata": {},
   "source": [
    "We can also iterate over the remaining values in the generator function"
   ]
  },
  {
   "cell_type": "code",
   "execution_count": null,
   "metadata": {},
   "outputs": [],
   "source": [
    "y.__next__()"
   ]
  },
  {
   "cell_type": "markdown",
   "metadata": {},
   "source": [
    "When the generator returns all the values, iteration stops"
   ]
  },
  {
   "cell_type": "markdown",
   "metadata": {},
   "source": [
    "### Practical Example\n",
    "\n",
    "- A python version of Unix 'tail -f'\n"
   ]
  },
  {
   "cell_type": "code",
   "execution_count": null,
   "metadata": {},
   "outputs": [],
   "source": [
    "import time\n",
    "def follow(thefile):\n",
    "    thefile.seek(0,2) # go to the end of the file\n",
    "    while True:\n",
    "        line = thefile.readline()\n",
    "        if not line:\n",
    "            time.sleep(0.1) #sleep briefly\n",
    "            continue\n",
    "        yield line"
   ]
  },
  {
   "cell_type": "markdown",
   "metadata": {},
   "source": [
    "- Example Use: Watch a web server log file\n",
    "\n",
    "```python\n",
    "logfile = open('access-log')\n",
    "for line in follow(logfile):\n",
    "    print(line)\n",
    "```"
   ]
  },
  {
   "cell_type": "markdown",
   "metadata": {},
   "source": [
    "## Generators as pipelines\n",
    "\n",
    "- one feature that makes generators very powerful is the setting up processing pipelines\n",
    "\n",
    "- similar to shell pipes in Unix\n",
    "\n",
    "- idea: you can you use generators to write recursive descent parsers and integrate them in your parsing pipeline\n",
    "\n",
    "- idea: stack series of generators funcs together into a pipe and pull items withit from a list."
   ]
  },
  {
   "cell_type": "code",
   "execution_count": null,
   "metadata": {},
   "outputs": [],
   "source": [
    "def count_up(n):\n",
    "    i = 0\n",
    "    while i > n:\n",
    "        yield i\n",
    "        i += 1"
   ]
  },
  {
   "cell_type": "code",
   "execution_count": null,
   "metadata": {},
   "outputs": [],
   "source": [
    "def count_down(n):\n",
    "    for stuff in n:\n",
    "        yield n"
   ]
  },
  {
   "cell_type": "code",
   "execution_count": null,
   "metadata": {},
   "outputs": [],
   "source": [
    "x = count_up(10)"
   ]
  },
  {
   "cell_type": "code",
   "execution_count": null,
   "metadata": {},
   "outputs": [],
   "source": [
    "y = count_down(x)"
   ]
  },
  {
   "cell_type": "code",
   "execution_count": null,
   "metadata": {},
   "outputs": [],
   "source": [
    "y"
   ]
  },
  {
   "cell_type": "markdown",
   "metadata": {},
   "source": [
    "We can daisy chain generators to get the pipeline we want."
   ]
  },
  {
   "cell_type": "markdown",
   "metadata": {},
   "source": [
    "### Yield as an expression\n",
    "\n",
    "Yield can also be used as an expression on the right side of an assignment."
   ]
  },
  {
   "cell_type": "code",
   "execution_count": null,
   "metadata": {},
   "outputs": [],
   "source": [
    "def grep(pattern):\n",
    "    print(f'Looking for {pattern}')\n",
    "    while True:\n",
    "        line = (yield)\n",
    "        if pattern in line:\n",
    "            print(\"Found\")\n",
    "            print(line)"
   ]
  },
  {
   "cell_type": "markdown",
   "metadata": {},
   "source": [
    "What will be the value of line? \n",
    "- Well the value of line will be None when it is initialized but it will get the values from the function and consume them. "
   ]
  },
  {
   "cell_type": "markdown",
   "metadata": {},
   "source": [
    "# Co-routines\n",
    "If you use yield more gnerally, you get a co-routine. Like in the example above.\n",
    "- co-routines can do more than just generate values. They can consume values sent to function"
   ]
  },
  {
   "cell_type": "code",
   "execution_count": null,
   "metadata": {},
   "outputs": [],
   "source": [
    "g = grep(\"python\")"
   ]
  },
  {
   "cell_type": "code",
   "execution_count": null,
   "metadata": {},
   "outputs": [],
   "source": [
    "g.__next__()"
   ]
  },
  {
   "cell_type": "markdown",
   "metadata": {},
   "source": [
    "We can send values to the function with `send`\n"
   ]
  },
  {
   "cell_type": "code",
   "execution_count": null,
   "metadata": {},
   "outputs": [],
   "source": [
    "g.send(\"yeah, but no\")"
   ]
  },
  {
   "cell_type": "code",
   "execution_count": null,
   "metadata": {},
   "outputs": [],
   "source": [
    "g.send(\"A series of pipes\")"
   ]
  },
  {
   "cell_type": "code",
   "execution_count": null,
   "metadata": {},
   "outputs": [],
   "source": [
    "g.send(\"python generators are decent\")"
   ]
  },
  {
   "cell_type": "code",
   "execution_count": null,
   "metadata": {},
   "outputs": [],
   "source": [
    "g.__next__()"
   ]
  },
  {
   "cell_type": "markdown",
   "metadata": {},
   "source": [
    "- Execution for coroutines is same as generator. \n",
    "- When we call co-courtine nothing happens.\n",
    "- They only respond to `__next__` and `send()` methods"
   ]
  },
  {
   "cell_type": "code",
   "execution_count": null,
   "metadata": {},
   "outputs": [],
   "source": [
    "h = grep(\"Harris\")\n"
   ]
  },
  {
   "cell_type": "code",
   "execution_count": null,
   "metadata": {},
   "outputs": [],
   "source": [
    "h"
   ]
  },
  {
   "cell_type": "markdown",
   "metadata": {},
   "source": [
    "\"No output was produced\""
   ]
  },
  {
   "cell_type": "code",
   "execution_count": null,
   "metadata": {},
   "outputs": [],
   "source": [
    "h.__next__()"
   ]
  },
  {
   "cell_type": "markdown",
   "metadata": {},
   "source": [
    "On the first next the coroutine starts executing"
   ]
  },
  {
   "cell_type": "code",
   "execution_count": 16,
   "metadata": {},
   "outputs": [],
   "source": [
    "#  a bogus example of generator\n",
    "# a generator, that produces and receives values\n",
    "def countdown(n):\n",
    "    print(f\"Counting down from {n}\")\n",
    "    while n >= 0:\n",
    "        newvalue = (yield n)\n",
    "        # if new value got set in, rest n with it.\n",
    "        if newvalue is not None:\n",
    "            n = newvalue\n",
    "        else:\n",
    "            n -= 1"
   ]
  },
  {
   "cell_type": "code",
   "execution_count": 17,
   "metadata": {},
   "outputs": [],
   "source": [
    "c = countdown(5)"
   ]
  },
  {
   "cell_type": "code",
   "execution_count": 18,
   "metadata": {},
   "outputs": [
    {
     "data": {
      "text/plain": [
       "<generator object countdown at 0x7fbde1904d60>"
      ]
     },
     "execution_count": 18,
     "metadata": {},
     "output_type": "execute_result"
    }
   ],
   "source": [
    "c"
   ]
  },
  {
   "cell_type": "code",
   "execution_count": 19,
   "metadata": {},
   "outputs": [
    {
     "name": "stdout",
     "output_type": "stream",
     "text": [
      "Counting down from 10\n",
      "10\n",
      "9\n",
      "8\n",
      "7\n",
      "6\n",
      "5\n",
      "1\n",
      "0\n"
     ]
    }
   ],
   "source": [
    "e = countdown(10)\n",
    "for stuff in e:\n",
    "    print(stuff)\n",
    "    if stuff == 5:\n",
    "        e.send(2)"
   ]
  },
  {
   "cell_type": "code",
   "execution_count": 20,
   "metadata": {},
   "outputs": [
    {
     "name": "stdout",
     "output_type": "stream",
     "text": [
      "Counting down from 5\n",
      "5\n",
      "2\n",
      "1\n",
      "0\n"
     ]
    }
   ],
   "source": [
    "for n in c:\n",
    "    print(n)\n",
    "    if n == 5:\n",
    "        c.send(3)"
   ]
  },
  {
   "cell_type": "code",
   "execution_count": 23,
   "metadata": {},
   "outputs": [
    {
     "name": "stdout",
     "output_type": "stream",
     "text": [
      "Counting down from 4\n",
      "<generator object countdown at 0x7fbde190e4a0>\n",
      "<generator object countdown at 0x7fbde190e4a0>\n",
      "<generator object countdown at 0x7fbde190e4a0>\n",
      "<generator object countdown at 0x7fbde190e4a0>\n",
      "<generator object countdown at 0x7fbde190e4a0>\n"
     ]
    }
   ],
   "source": [
    "d = countdown(4)\n",
    "for items in d:\n",
    "    print(d)"
   ]
  },
  {
   "attachments": {},
   "cell_type": "markdown",
   "metadata": {},
   "source": [
    "Extra Slides\n",
    "- ![Slide1](slides/slide1.png)\n",
    "- ![Slide2](slides/slide2.png)\n",
    "- ![Slide3](slides/slide3.png)\n",
    "- ![Slide4](slides/slide4.png)\n",
    "- ![Slide5](slides/slide5.png)\n",
    "- ![Slide6](slides/slide6.png)\n",
    "- ![Slide7](slides/slide7.png)\n",
    "- ![Slide8](slides/slide8.png)\n",
    "- ![Slide9](slides/slide9.png)\n",
    "- ![Slide10](slides/slide10.png)\n",
    "- ![Slide11](slides/slide11.png)\n",
    "- ![Slide12](slides/slide12.png)\n",
    "- ![Slide13](slides/slide13.png)\n",
    "- ![Slide14](slides/slide14.png)\n",
    "- ![Slide15](slides/slide15.png)\n",
    "- ![Slide16](slides/slide16.png)\n",
    "- ![Slide17](slides/slide17.png)\n",
    "- ![Slide18](slides/slide18.png)\n",
    "- ![Slide19](slides/slide19.png)"
   ]
  },
  {
   "cell_type": "code",
   "execution_count": null,
   "metadata": {},
   "outputs": [],
   "source": []
  }
 ],
 "metadata": {
  "kernelspec": {
   "display_name": "Python 3",
   "language": "python",
   "name": "python3"
  },
  "language_info": {
   "codemirror_mode": {
    "name": "ipython",
    "version": 3
   },
   "file_extension": ".py",
   "mimetype": "text/x-python",
   "name": "python",
   "nbconvert_exporter": "python",
   "pygments_lexer": "ipython3",
   "version": "3.8.3"
  }
 },
 "nbformat": 4,
 "nbformat_minor": 4
}
