{
 "cells": [
  {
   "cell_type": "markdown",
   "metadata": {},
   "source": [
    "## Decorators in Python\n",
    "Decorators are functions that wrap around other functions to modify the behaviour of the previous functions. \n",
    "They help to write cleaner and Pythonic python.\n",
    "\n",
    "**To understand decorators we need to understand quirks of functions**\n",
    "\n",
    "**Eveyrything in python is an object**"
   ]
  },
  {
   "cell_type": "code",
   "execution_count": 1,
   "metadata": {},
   "outputs": [
    {
     "name": "stdout",
     "output_type": "stream",
     "text": [
      "Hi Harris\n"
     ]
    }
   ],
   "source": [
    "def hi(name:str = \"Harris\"):\n",
    "    return f\"Hi {name}\"\n",
    "print(hi())"
   ]
  },
  {
   "cell_type": "markdown",
   "metadata": {},
   "source": [
    "We can assign functions to variables"
   ]
  },
  {
   "cell_type": "code",
   "execution_count": 2,
   "metadata": {},
   "outputs": [],
   "source": [
    "greeting = hi"
   ]
  },
  {
   "cell_type": "markdown",
   "metadata": {},
   "source": [
    "We don't use () because we are not calling the function, but just wrapping it in a variable."
   ]
  },
  {
   "cell_type": "code",
   "execution_count": 3,
   "metadata": {},
   "outputs": [
    {
     "name": "stdout",
     "output_type": "stream",
     "text": [
      "Hi Harris\n"
     ]
    }
   ],
   "source": [
    "print(greeting())"
   ]
  },
  {
   "cell_type": "markdown",
   "metadata": {},
   "source": [
    "Now we can delete our old function."
   ]
  },
  {
   "cell_type": "code",
   "execution_count": 4,
   "metadata": {},
   "outputs": [],
   "source": [
    "del hi"
   ]
  },
  {
   "cell_type": "code",
   "execution_count": 5,
   "metadata": {},
   "outputs": [
    {
     "ename": "NameError",
     "evalue": "name 'hi' is not defined",
     "output_type": "error",
     "traceback": [
      "\u001b[0;31m--------------------------\u001b[0m",
      "\u001b[0;31mNameError\u001b[0mTraceback (most recent call last)",
      "\u001b[0;32m<ipython-input-5-60b52d1d5e02>\u001b[0m in \u001b[0;36m<module>\u001b[0;34m\u001b[0m\n\u001b[0;32m----> 1\u001b[0;31m \u001b[0mprint\u001b[0m\u001b[0;34m(\u001b[0m\u001b[0mhi\u001b[0m\u001b[0;34m(\u001b[0m\u001b[0;34m)\u001b[0m\u001b[0;34m)\u001b[0m\u001b[0;34m\u001b[0m\u001b[0;34m\u001b[0m\u001b[0m\n\u001b[0m",
      "\u001b[0;31mNameError\u001b[0m: name 'hi' is not defined"
     ]
    }
   ],
   "source": [
    "print(hi())"
   ]
  },
  {
   "cell_type": "markdown",
   "metadata": {},
   "source": [
    "Here, we get error because we deleted the function earlier. But we can call the function from the new variables that we used to wrap the function in."
   ]
  },
  {
   "cell_type": "code",
   "execution_count": 6,
   "metadata": {},
   "outputs": [
    {
     "name": "stdout",
     "output_type": "stream",
     "text": [
      "Hi Python\n"
     ]
    }
   ],
   "source": [
    "print(greeting(\"Python\"))"
   ]
  },
  {
   "cell_type": "markdown",
   "metadata": {},
   "source": [
    "## Definning functions within functions:\n",
    "Python allows us to do nested functions. Let's see an example"
   ]
  },
  {
   "cell_type": "code",
   "execution_count": 13,
   "metadata": {},
   "outputs": [
    {
     "name": "stdout",
     "output_type": "stream",
     "text": [
      "Now you are inside hi() function\n"
     ]
    },
    {
     "data": {
      "text/plain": [
       "'now you are inside the greet() function\\ninside hi'"
      ]
     },
     "execution_count": 13,
     "metadata": {},
     "output_type": "execute_result"
    }
   ],
   "source": [
    "def hi(name:str = \"Harris\"):\n",
    "    print(\"Now you are inside hi() function\")\n",
    "    \n",
    "    def greet():\n",
    "        return \"now you are inside the greet() function\\ninside hi\"\n",
    "    \n",
    "    def welcome():\n",
    "        return \"now you are  in welcome() function\"\n",
    "    return greet\n",
    "\n",
    "a = hi()\n",
    "a()\n",
    "\n",
    "\n"
   ]
  },
  {
   "cell_type": "markdown",
   "metadata": {},
   "source": [
    "Now, we know that the function can be defined and called from within functions. But cannot be accessed outside the scope of function with the name.\n",
    "\n",
    "## Returning functions from within functions\n",
    "It is not necessary to execute a function within another function, we can just return it."
   ]
  },
  {
   "cell_type": "code",
   "execution_count": 18,
   "metadata": {},
   "outputs": [
    {
     "name": "stdout",
     "output_type": "stream",
     "text": [
      "(9, 'You are in add()')\n"
     ]
    }
   ],
   "source": [
    "def hisab(a: int, b: int, ops: str = \"add\"): #note, keep default arguments as last parms\n",
    "    def add():\n",
    "        return a + b, \"You are in add()\"\n",
    "    \n",
    "    def sub():\n",
    "        return a - b, \"you are in sub()\"\n",
    "    if ops == \"sub\":\n",
    "        return sub\n",
    "    else:\n",
    "        return add\n",
    "\n",
    "a = hisab(a = 4, b = 5)\n",
    "print(a())\n"
   ]
  },
  {
   "cell_type": "markdown",
   "metadata": {},
   "source": [
    "## Passing a function as an argument to another function\n",
    "We can easily pass one function as an argument to another function in Python. "
   ]
  },
  {
   "cell_type": "code",
   "execution_count": 34,
   "metadata": {},
   "outputs": [
    {
     "name": "stdout",
     "output_type": "stream",
     "text": [
      "I am doing some boring work before hi()\n",
      "This ain't your bitch\n",
      "I did something aftre function bitch\n"
     ]
    }
   ],
   "source": [
    "def hi():\n",
    "    return \"This is HI()\"\n",
    "def bitch():\n",
    "    return \"This ain't your bitch\"\n",
    "def doSomethingBeforeHi(func):\n",
    "    print(\"I am doing some boring work before hi()\")\n",
    "    # print(func)\n",
    "    #print(func())\n",
    "    print(func())\n",
    "    print(\"I did something aftre function bitch\")\n",
    "\n",
    "doSomethingBeforeHi(bitch)"
   ]
  },
  {
   "cell_type": "markdown",
   "metadata": {},
   "source": [
    "Now that we have everything we need for decorators, let's write one.\n",
    "\n",
    "## Writing your first decorator\n",
    "\n",
    "The example we wrote above is a simple decorator as well but we are going to make it little better"
   ]
  },
  {
   "cell_type": "code",
   "execution_count": 56,
   "metadata": {},
   "outputs": [],
   "source": [
    "def a_new_decorator(a_func):\n",
    "    def wrapTheFunction():\n",
    "        print(f\"Some work before executing the {(a_func)}\")\n",
    "        a_func()\n",
    "        print(f\"I am doing some work after executing {(a_func)}\")\n",
    "    return wrapTheFunction\n",
    "@a_new_decorator\n",
    "def a_func_requiring_decoration():\n",
    "    print(\"Need some sugar\")\n",
    "    print(\"I am the function which needs some decoration\")\n",
    "\n"
   ]
  },
  {
   "cell_type": "code",
   "execution_count": 58,
   "metadata": {},
   "outputs": [
    {
     "name": "stdout",
     "output_type": "stream",
     "text": [
      "Some work before executing the <function a_func_requiring_decoration at 0x7fe9bcc11820>\n",
      "Need some sugar\n",
      "I am the function which needs some decoration\n",
      "I am doing some work after executing <function a_func_requiring_decoration at 0x7fe9bcc11820>\n"
     ]
    }
   ],
   "source": [
    "a_func_requiring_decoration()"
   ]
  },
  {
   "cell_type": "code",
   "execution_count": 47,
   "metadata": {},
   "outputs": [],
   "source": [
    "# now, let's pass this through the decorator we wrote\n",
    "decorated_block = a_new_decorator(a_func_requiring_decoration)"
   ]
  },
  {
   "cell_type": "code",
   "execution_count": 48,
   "metadata": {},
   "outputs": [
    {
     "name": "stdout",
     "output_type": "stream",
     "text": [
      "Some work before executing the <function a_func_requiring_decoration at 0x7fe9bcc11670>\n",
      "Need some sugar\n",
      "I am the function which needs some decoration\n",
      "I am doing some work after executing <function a_func_requiring_decoration at 0x7fe9bcc11670>\n"
     ]
    }
   ],
   "source": [
    "decorated_block()"
   ]
  },
  {
   "cell_type": "markdown",
   "metadata": {},
   "source": [
    "So, this is it. We have successfully written our first decorator. But why aren't we using `@` symbol. Well that's to make writing decorator easier. Let's rewrite above with `@` symbol.\n"
   ]
  },
  {
   "cell_type": "code",
   "execution_count": 49,
   "metadata": {},
   "outputs": [],
   "source": [
    "def new_dec(a_func):\n",
    "    \n",
    "    def wrapper():\n",
    "        print(f\"before the : {str(a_func)}\")\n",
    "        \n",
    "        print(f\"after the : {str(a_func)}\")\n",
    "    return wrapper #don't forget to return the wrapper function"
   ]
  },
  {
   "cell_type": "code",
   "execution_count": 54,
   "metadata": {},
   "outputs": [],
   "source": [
    "@new_dec\n",
    "def new_decoree():\n",
    "    print(\" I am the function that needs decoration\")"
   ]
  },
  {
   "cell_type": "code",
   "execution_count": 55,
   "metadata": {},
   "outputs": [
    {
     "name": "stdout",
     "output_type": "stream",
     "text": [
      "before the : <function new_decoree at 0x7fe9bcc11a60>\n",
      " I am the function that needs decoration\n",
      "after the : <function new_decoree at 0x7fe9bcc11a60>\n"
     ]
    }
   ],
   "source": [
    "new_decoree()"
   ]
  },
  {
   "cell_type": "markdown",
   "metadata": {},
   "source": [
    "Python does overwrite the name of our function that we wrap. So to solve this problem python provides simple function to solve this problem and i.e. `functools.wraps`. Let's write a the second function with the wrapper"
   ]
  },
  {
   "cell_type": "code",
   "execution_count": 61,
   "metadata": {},
   "outputs": [],
   "source": [
    "from functools import wraps\n",
    "def new_dec(a_func):\n",
    "    @wraps(a_func)\n",
    "    def wrapper():\n",
    "        print(f\"before the : {str(a_func)}\")\n",
    "        a_func()\n",
    "        print(f\"after the : {str(a_func)}\")\n",
    "    return wrapper "
   ]
  },
  {
   "cell_type": "code",
   "execution_count": 62,
   "metadata": {},
   "outputs": [],
   "source": [
    "@new_dec\n",
    "def need_my_address():\n",
    "    print(\"I want to know my address in memory. Decorate\")"
   ]
  },
  {
   "cell_type": "code",
   "execution_count": 63,
   "metadata": {},
   "outputs": [
    {
     "name": "stdout",
     "output_type": "stream",
     "text": [
      "before the : <function need_my_address at 0x7feed3b283a0>\n",
      "I want to know my address in memory. Decorate\n",
      "after the : <function need_my_address at 0x7feed3b283a0>\n"
     ]
    }
   ],
   "source": [
    "need_my_address()"
   ]
  },
  {
   "cell_type": "markdown",
   "metadata": {},
   "source": [
    "## Blueprint:\n",
    "General Blueprint of the decorators"
   ]
  },
  {
   "cell_type": "code",
   "execution_count": 67,
   "metadata": {},
   "outputs": [],
   "source": [
    "from functools import wraps\n",
    "def is_admin(f):\n",
    "    @wraps(f)\n",
    "    def alu(*args, **kwargs):\n",
    "        if is_admin:\n",
    "            return \"Admin can fart\"\n",
    "        return f(*args, **kwargs)\n",
    "    return alu\n",
    "\n",
    "@is_admin\n",
    "def admin_fart():\n",
    "    return(\"Admin is farting\")"
   ]
  },
  {
   "cell_type": "code",
   "execution_count": 68,
   "metadata": {},
   "outputs": [
    {
     "name": "stdout",
     "output_type": "stream",
     "text": [
      "Function is running\n"
     ]
    }
   ],
   "source": [
    "ching_chong = True\n",
    "print(test_func())"
   ]
  },
  {
   "cell_type": "code",
   "execution_count": 67,
   "metadata": {},
   "outputs": [
    {
     "data": {
      "text/plain": [
       "'Function will not run'"
      ]
     },
     "execution_count": 67,
     "metadata": {},
     "output_type": "execute_result"
    }
   ],
   "source": [
    "can_run = False\n",
    "test_func()"
   ]
  },
  {
   "cell_type": "markdown",
   "metadata": {},
   "source": [
    ">> `@wraps` takes a function to be decorated and adds the functionality of copying over the function name, docstring, arguments list, etc. This allows us to access the pre-decorated functions' properties in the decorator."
   ]
  },
  {
   "cell_type": "markdown",
   "metadata": {},
   "source": [
    "## Use cases\n",
    "### 1. Authorization\n",
    "Decorators can help to check if someone is authorized to use an endpoint in web app. They are extensively used in web frameworks like : Flask, Django and more."
   ]
  },
  {
   "cell_type": "code",
   "execution_count": 78,
   "metadata": {},
   "outputs": [],
   "source": [
    "from functools import wraps\n",
    "\n",
    "def requires_auth(f):\n",
    "    @wraps(f)\n",
    "    def decorated(*args, **kwargs):\n",
    "        # auth = request.authorization\n",
    "        if not auth:\n",
    "            authenticate()\n",
    "        return f(*args, **kwargs)\n",
    "    return decorated"
   ]
  },
  {
   "cell_type": "code",
   "execution_count": 79,
   "metadata": {},
   "outputs": [],
   "source": [
    "auth = False"
   ]
  },
  {
   "cell_type": "code",
   "execution_count": 80,
   "metadata": {},
   "outputs": [],
   "source": [
    "# Let's try and use the function when auth is false.\n",
    "@requires_auth\n",
    "def fancifyName(name: str):\n",
    "    print(\"*******HELLO**********\")\n",
    "    print(f\"*******{name.upper()}**********\")"
   ]
  },
  {
   "cell_type": "code",
   "execution_count": 81,
   "metadata": {},
   "outputs": [
    {
     "ename": "NameError",
     "evalue": "name 'authenticate' is not defined",
     "output_type": "error",
     "traceback": [
      "\u001b[0;31m--------------------------\u001b[0m",
      "\u001b[0;31mNameError\u001b[0mTraceback (most recent call last)",
      "\u001b[0;32m<ipython-input-81-c4ba1fbf5f51>\u001b[0m in \u001b[0;36m<module>\u001b[0;34m\u001b[0m\n\u001b[0;32m----> 1\u001b[0;31m \u001b[0mfancifyName\u001b[0m\u001b[0;34m(\u001b[0m\u001b[0;34m)\u001b[0m\u001b[0;34m\u001b[0m\u001b[0;34m\u001b[0m\u001b[0m\n\u001b[0m",
      "\u001b[0;32m<ipython-input-78-8e1887ea4129>\u001b[0m in \u001b[0;36mdecorated\u001b[0;34m(*args, **kwargs)\u001b[0m\n\u001b[1;32m      6\u001b[0m         \u001b[0;31m# auth = request.authorization\u001b[0m\u001b[0;34m\u001b[0m\u001b[0;34m\u001b[0m\u001b[0;34m\u001b[0m\u001b[0m\n\u001b[1;32m      7\u001b[0m         \u001b[0;32mif\u001b[0m \u001b[0;32mnot\u001b[0m \u001b[0mauth\u001b[0m\u001b[0;34m:\u001b[0m\u001b[0;34m\u001b[0m\u001b[0;34m\u001b[0m\u001b[0m\n\u001b[0;32m----> 8\u001b[0;31m             \u001b[0mauthenticate\u001b[0m\u001b[0;34m(\u001b[0m\u001b[0;34m)\u001b[0m\u001b[0;34m\u001b[0m\u001b[0;34m\u001b[0m\u001b[0m\n\u001b[0m\u001b[1;32m      9\u001b[0m         \u001b[0;32mreturn\u001b[0m \u001b[0mf\u001b[0m\u001b[0;34m(\u001b[0m\u001b[0;34m*\u001b[0m\u001b[0margs\u001b[0m\u001b[0;34m,\u001b[0m \u001b[0;34m**\u001b[0m\u001b[0mkwargs\u001b[0m\u001b[0;34m)\u001b[0m\u001b[0;34m\u001b[0m\u001b[0;34m\u001b[0m\u001b[0m\n\u001b[1;32m     10\u001b[0m     \u001b[0;32mreturn\u001b[0m \u001b[0mdecorated\u001b[0m\u001b[0;34m\u001b[0m\u001b[0;34m\u001b[0m\u001b[0m\n",
      "\u001b[0;31mNameError\u001b[0m: name 'authenticate' is not defined"
     ]
    }
   ],
   "source": [
    "fancifyName()"
   ]
  },
  {
   "cell_type": "code",
   "execution_count": 82,
   "metadata": {},
   "outputs": [],
   "source": [
    "auth = True"
   ]
  },
  {
   "cell_type": "code",
   "execution_count": 84,
   "metadata": {},
   "outputs": [
    {
     "name": "stdout",
     "output_type": "stream",
     "text": [
      "*******HELLO**********\n",
      "*******HARRIS**********\n"
     ]
    }
   ],
   "source": [
    "fancifyName(\"harris\")"
   ]
  },
  {
   "cell_type": "markdown",
   "metadata": {},
   "source": [
    "### 2. Logging\n",
    "Logging is another use of decorator because they make the code concise. \n",
    "For example:\n"
   ]
  },
  {
   "cell_type": "code",
   "execution_count": 85,
   "metadata": {},
   "outputs": [],
   "source": [
    "from functools import wraps\n",
    "def logit(func):\n",
    "    @wraps(func)\n",
    "    def with_logging(*args, **kwargs):\n",
    "        print(f\"{func.__name__} was called\")\n",
    "        return func(*args, **kwargs)\n",
    "    return with_logging"
   ]
  },
  {
   "cell_type": "code",
   "execution_count": 90,
   "metadata": {},
   "outputs": [],
   "source": [
    "@logit\n",
    "def multiply_stuff(x:int, y: int):\n",
    "    return (x * y) ** y"
   ]
  },
  {
   "cell_type": "code",
   "execution_count": 91,
   "metadata": {},
   "outputs": [
    {
     "name": "stdout",
     "output_type": "stream",
     "text": [
      "multiply_stuff was called\n"
     ]
    },
    {
     "data": {
      "text/plain": [
       "64339296875"
      ]
     },
     "execution_count": 91,
     "metadata": {},
     "output_type": "execute_result"
    }
   ],
   "source": [
    "multiply_stuff(5,7)"
   ]
  },
  {
   "cell_type": "markdown",
   "metadata": {},
   "source": [
    "## Decorators with Arguments\n",
    "\n",
    "If we think about it. `@wraps` itself is a decorator. But it takes arguments like any normal function can do. So, maybe we can do it as well?\n",
    "This is because when we use our decorator `@mydecorator` syntax, we are applying wrapper function with a single function as a parameter. \n",
    "Because, everything in Python is an object, we can write a function that returns a wrapper function.\n",
    "\n",
    "### 1. Nesting decorator within a function\n",
    "Let's extend our log example:"
   ]
  },
  {
   "cell_type": "code",
   "execution_count": 97,
   "metadata": {},
   "outputs": [],
   "source": [
    "from functools import wraps\n",
    "\n",
    "def logger(logfile='out.log'):\n",
    "    def logging_decorator(func):\n",
    "        @wraps(func)\n",
    "        def wrapped_func(*args, **kwargs):\n",
    "            log_string = f\"{func.__name__} was called.\"\n",
    "            print(log_string)\n",
    "            \n",
    "            #Open the logfile and append\n",
    "            with open(logfile,'a') as file:\n",
    "                file.write(log_string + \"\\n\")\n",
    "            return func(*args, **kwargs)\n",
    "        return wrapped_func\n",
    "    return logging_decorator"
   ]
  },
  {
   "cell_type": "code",
   "execution_count": 98,
   "metadata": {},
   "outputs": [],
   "source": [
    "@logger()\n",
    "def myfunc():\n",
    "    return \"Does nothing\""
   ]
  },
  {
   "cell_type": "code",
   "execution_count": 99,
   "metadata": {},
   "outputs": [
    {
     "name": "stdout",
     "output_type": "stream",
     "text": [
      "myfunc was called.\n"
     ]
    },
    {
     "data": {
      "text/plain": [
       "'Does nothing'"
      ]
     },
     "execution_count": 99,
     "metadata": {},
     "output_type": "execute_result"
    }
   ],
   "source": [
    "myfunc()"
   ]
  },
  {
   "cell_type": "code",
   "execution_count": 100,
   "metadata": {},
   "outputs": [],
   "source": [
    "@logger(logfile='func2.log')\n",
    "def myfunc2():\n",
    "    return 2 + 2"
   ]
  },
  {
   "cell_type": "code",
   "execution_count": 101,
   "metadata": {},
   "outputs": [
    {
     "name": "stdout",
     "output_type": "stream",
     "text": [
      "myfunc2 was called.\n"
     ]
    },
    {
     "data": {
      "text/plain": [
       "4"
      ]
     },
     "execution_count": 101,
     "metadata": {},
     "output_type": "execute_result"
    }
   ],
   "source": [
    "myfunc2()"
   ]
  },
  {
   "cell_type": "markdown",
   "metadata": {},
   "source": [
    "### 2. Decorator classes\n",
    "\n",
    "So, we can use decorators by nesting them inside the functions and passing the  arguments. But what if we need something more immediate, or different. Like we need to send emails if we counter errors in the log or some different features.\n",
    "\n",
    "Luckily we can use classes to build decorators. Dunder methods are used to carry out the initialization and other operations. And, classes can be further inherited into sub classes to add more feature to different models.\n",
    "\n",
    "Let's extend our logger with the class"
   ]
  },
  {
   "cell_type": "code",
   "execution_count": 107,
   "metadata": {},
   "outputs": [],
   "source": [
    "# logger decorator class\n",
    "class logger(object):\n",
    "    logfile = 'out.log'\n",
    "    # initialize the decorator, accepts the function obj\n",
    "    def __init__(self, func):\n",
    "        self.func = func\n",
    "    \n",
    "    # calls and does stuff with the function\n",
    "    def __call__(self, *args):\n",
    "        log_string = f\"{self.func.__name__} was called\"\n",
    "        print(log_string)\n",
    "        \n",
    "        #Write to file\n",
    "        with open(self.logfile, 'a') as file:\n",
    "            file.write(log_string + \"\\n\") # \\n changes the line\n",
    "        # return the base func \n",
    "        return self.func(*args)\n",
    "    \n",
    "    # send notification\n",
    "    def notify(self):\n",
    "        pass\n",
    "        \n",
    "    pass"
   ]
  },
  {
   "cell_type": "code",
   "execution_count": 108,
   "metadata": {},
   "outputs": [
    {
     "name": "stdout",
     "output_type": "stream",
     "text": [
      "new_func was called\n"
     ]
    },
    {
     "data": {
      "text/plain": [
       "'I do new things'"
      ]
     },
     "execution_count": 108,
     "metadata": {},
     "output_type": "execute_result"
    }
   ],
   "source": [
    "@logger\n",
    "def new_func():\n",
    "    return \"I do new things\"\n",
    "new_func()"
   ]
  },
  {
   "cell_type": "code",
   "execution_count": 111,
   "metadata": {},
   "outputs": [],
   "source": [
    "# We can provide the logfile as well if it changes\n",
    "logger._logfile = 'out2.log'\n",
    "@logger\n",
    "def more_things():\n",
    "    for i in range(1,5):\n",
    "        for j in range(2,1,-1):\n",
    "            print(\"*\")\n",
    "        "
   ]
  },
  {
   "cell_type": "code",
   "execution_count": 112,
   "metadata": {},
   "outputs": [
    {
     "name": "stdout",
     "output_type": "stream",
     "text": [
      "more_things was called\n",
      "*\n",
      "*\n",
      "*\n",
      "*\n"
     ]
    }
   ],
   "source": [
    "more_things()"
   ]
  },
  {
   "cell_type": "markdown",
   "metadata": {},
   "source": [
    "### Subclassing the decorator class\n",
    "If at some point we need to add a new decorators with the similar feature sets. We can inherit our `logger` class and add more features.\n"
   ]
  },
  {
   "cell_type": "code",
   "execution_count": 134,
   "metadata": {},
   "outputs": [],
   "source": [
    "#log with email as\n",
    "class email_logger(logger):\n",
    "    '''\n",
    "    A logger implmentation to send emails to admins.\n",
    "    '''\n",
    "    def __init__(self,func, email='admin@gmail.com', *args, **kwargs):\n",
    "        self.email = email\n",
    "        super(email_logger, self).__init__(func,*args, **kwargs)\n",
    "    def notify(self):\n",
    "        print(f\"Sending email to {self.email}\")\n",
    "        "
   ]
  },
  {
   "cell_type": "code",
   "execution_count": 136,
   "metadata": {},
   "outputs": [],
   "source": [
    "## using the email logger decorator\n",
    "@email_logger\n",
    "def nice_things():\n",
    "    for i in range(1,5):\n",
    "        for j in range(10,1,-1):\n",
    "            print(\"*\", end=\" \")\n",
    "        print(\"\\n\")"
   ]
  },
  {
   "cell_type": "code",
   "execution_count": 137,
   "metadata": {},
   "outputs": [
    {
     "name": "stdout",
     "output_type": "stream",
     "text": [
      "nice_things was called\n",
      "* * * * * * * * * \n",
      "\n",
      "* * * * * * * * * \n",
      "\n",
      "* * * * * * * * * \n",
      "\n",
      "* * * * * * * * * \n",
      "\n"
     ]
    }
   ],
   "source": [
    "nice_things()"
   ]
  },
  {
   "cell_type": "code",
   "execution_count": null,
   "metadata": {},
   "outputs": [],
   "source": []
  }
 ],
 "metadata": {
  "kernelspec": {
   "display_name": "Python 3",
   "language": "python",
   "name": "python3"
  },
  "language_info": {
   "codemirror_mode": {
    "name": "ipython",
    "version": 3
   },
   "file_extension": ".py",
   "mimetype": "text/x-python",
   "name": "python",
   "nbconvert_exporter": "python",
   "pygments_lexer": "ipython3",
   "version": "3.8.3"
  }
 },
 "nbformat": 4,
 "nbformat_minor": 4
}
