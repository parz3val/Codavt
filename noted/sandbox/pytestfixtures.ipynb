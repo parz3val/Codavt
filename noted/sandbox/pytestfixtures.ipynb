{
 "cells": [
  {
   "cell_type": "markdown",
   "metadata": {},
   "source": [
    "# Pytest fixtures: Explicit, modular, scalable"
   ]
  },
  {
   "cell_type": "markdown",
   "metadata": {},
   "source": [
    "Fixtures in pytest provide the baseline so that tests execute reliably\n",
    "and produce consistent results. They initialize test functions, which \n",
    "may setup services, state, or other operating environments -- and are accessed by test functions through arguments; for each fixture used by test function there is typically parm(named after the fixture) in the test function's definition.\n",
    "\n",
    "It offers dramatic improvements over the classic xUnit style of setup/teardown functions\n",
    "\n",
    "- fixtures have explicit names and are activated by declaring their use for test func\n",
    "\n",
    "- fixture are implemented in modular manner, as each fixture name triggers unique fixture function which can itself use other fixtures\n",
    "\n",
    "- fixture management scales from unit to complex functional testing, allowing us to parametrize fixtures and test accoridng ot configuration and component options, or to re-use fixtures across function, class, module or whole test session scopes.\n",
    "\n",
    "- pytest also supports classic xunit-style setup, and allows mixing and matching of styles.\n",
    "\n",
    "**Fixtures are defined with `@pytest.fixture` decorator** and offers useful builtin fixtures\n",
    "\n",
    "- **capfd** : Capture, as text, output to file descriptors 1 and 2\n",
    "- **capfdbinary**: capture as bytes and do same as capfd\n",
    "- **caplog** : Control logging and access log entries\n",
    "- **capsys** : Capture, as text, output to `sys.stdout` and `sys.stderr`\n",
    "- **capsybinary** : capture as bytes and output to `sys.stdout` and `sys.stderr`\n",
    "- **cache** : store and retreive values across pytest runs\n",
    "- **doctest_namespace** : Provice dict injected into the doctests namespace\n",
    "- **monkeypatch** : temporarily modify classes, func, and dict, `os.environ`\n",
    "- **pytestconfig** : acesses config values, pluginmanager and plugin hooks\n",
    "- **record_property** : add extra props to test\n",
    "- **record_testsuite_property** : add propts to test suite\n",
    "- **recwarn** : record warnings \n",
    "- **request** : provide information on executing test function\n",
    "- **testdir** : provide a temp test directory to aid running, and testing, pytest plugins\n",
    "- **tmp_path** : Provide a `pathlib.Path` object to tmp dir, which is unique to each test func\n",
    "- **tmp_path_factory** : make sesion scoped temp directories and return `pathlib.Path` obj\n",
    "- **tmpdir** - old, replaced by tmp_path\n",
    "- **tmpdir_factory** - old, replaced by tmp_path_factory\n",
    "\n"
   ]
  },
  {
   "cell_type": "markdown",
   "metadata": {},
   "source": [
    "## Fixtures as function arguments\n",
    "Test functions can recv fixture objects by naming them as an input argument. For each argument name, a fixture function with the name provides the fixture obj. Fixture functions are reg by marking with @pytest.fixture."
   ]
  },
  {
   "cell_type": "code",
   "execution_count": 4,
   "metadata": {},
   "outputs": [],
   "source": [
    "# Simple test with fixtures\n",
    "# Testing smtp\n",
    "import pytest\n",
    "\n",
    "@pytest.fixture\n",
    "def smtp_connection():\n",
    "    import smtplib\n",
    "    return smtplib.SMTP(\"stmp.gmail.com\", 587, timeout = 5)\n",
    "\n",
    "# Test func\n",
    "def test_smtp(smtp_connection):\n",
    "    response, msg = stmp.connection.ehlo()\n",
    "    assert response == 250\n",
    "    assert 0"
   ]
  },
  {
   "cell_type": "markdown",
   "metadata": {},
   "source": [
    "**In the test above, we are using a fixture stmp_connection func, and call our test func with the fixture function.** \n",
    "\n",
    "You can also issue the command like `pytest --fixtures test_simplefactory.py`"
   ]
  },
  {
   "cell_type": "markdown",
   "metadata": {},
   "source": [
    "## Fixtures : A prime example of dependency injection\n",
    "Fixtures allow use to test the functions easily with pre-initialized condition and application objects without having to care about import/setup/cleanup details. It's a good example DIP.\n",
    "\n",
    "### `conftest.py` : sharing fixtures functions\n",
    "If we need to access fixture functions from multiple test files then we can move it to `contest.py` file. We don't need to import the fixture we want to use in the test. Fixtures in the conftest.py are automatically discovered by the pytst module.\n",
    "\n",
    "## Scope: sharing fixtures across classes, modules, packages or session\n",
    "Fixture that require network access depend on connection and are usually time-expensive to create. If we extend our tests, we can add `scope=module` par to the `@pytest.fixture` decorator to only involve the `smtp_connection` fixture to only be invoked per test module (the default is to invoke once per test function). Multiple test function will thus receive the same `smtp)connection` fixture and save time. \n",
    "\n",
    "#### Fixture scopes\n",
    "- **function**\n",
    "- **class**\n",
    "- **module**\n",
    "- **package**\n",
    "- **session**"
   ]
  },
  {
   "cell_type": "code",
   "execution_count": 6,
   "metadata": {},
   "outputs": [],
   "source": [
    "# contents of conftest.py\n",
    "import pytest\n",
    "import smtplib\n",
    "\n",
    "@pytest.fixture(scope='module')\n",
    "def smtp_connection():\n",
    "    return smtplib.SMTP(\"smtp.gmail.com\", 587, timeout = 5)"
   ]
  },
  {
   "cell_type": "markdown",
   "metadata": {},
   "source": [
    "The name of the fixture is `smtp_connection` and the scope is `module` sp we can access its result by listing the name smtp_connection as an input parameter in any test or fixture function in the directory or directory below it.\n",
    ">> Pytest only cahces one instance of a fixture at a time, which means that when using parm fixtures, pytest may invoke fixture more than once in the given scope."
   ]
  },
  {
   "cell_type": "code",
   "execution_count": 7,
   "metadata": {},
   "outputs": [],
   "source": [
    "#contents of test_module\n",
    "def test_ehlo(smtp_connection):\n",
    "    response, msg = smtp_connection.ehlo()\n",
    "    assert response == 250\n",
    "    assert b\"smtp.gmail.com\" in msg\n",
    "    assert 0\n",
    "\n",
    "def test_noop(smtp_connection):\n",
    "    response, msg = smtp_connection.noop()\n",
    "    assert response == 250"
   ]
  },
  {
   "cell_type": "markdown",
   "metadata": {},
   "source": [
    "### Dynamic Scope\n",
    "In some cases, we might want to change the scope of the fixtures without chaning the code, in such cases we can use the dynamic scope by passing a callable to `scope`.\n"
   ]
  },
  {
   "cell_type": "code",
   "execution_count": null,
   "metadata": {},
   "outputs": [],
   "source": []
  }
 ],
 "metadata": {
  "kernelspec": {
   "display_name": "Python 3",
   "language": "python",
   "name": "python3"
  },
  "language_info": {
   "codemirror_mode": {
    "name": "ipython",
    "version": 3
   },
   "file_extension": ".py",
   "mimetype": "text/x-python",
   "name": "python",
   "nbconvert_exporter": "python",
   "pygments_lexer": "ipython3",
   "version": "3.8.3"
  }
 },
 "nbformat": 4,
 "nbformat_minor": 4
}
