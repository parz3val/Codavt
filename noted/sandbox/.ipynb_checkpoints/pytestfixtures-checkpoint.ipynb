{
 "cells": [
  {
   "cell_type": "markdown",
   "metadata": {},
   "source": [
    "# Pytest fixtures: Explicit, modular, scalable"
   ]
  },
  {
   "cell_type": "markdown",
   "metadata": {},
   "source": [
    "Fixtures in pytest provide the baseline so that tests execute reliably\n",
    "and produce consistent results. They initialize test functions, which \n",
    "may setup services, state, or other operating environments -- and are accessed by test functions through arguments; for each fixture used by test function there is typically parm(named after the fixture) in the test function's definition.\n",
    "\n",
    "It offers dramatic improvements over the classic xUnit style of setup/teardown functions\n",
    "\n",
    "- fixtures have explicit names and are activated by declaring their use for test func\n",
    "\n",
    "- fixture are implemented in modular manner, as each fixture name triggers unique fixture function which can itself use other fixtures\n",
    "\n",
    "- fixture management scales from unit to complex functional testing, allowing us to parametrize fixtures and test accoridng ot configuration and component options, or to re-use fixtures across function, class, module or whole test session scopes.\n",
    "\n",
    "- pytest also supports classic xunit-style setup, and allows mixing and matching of styles.\n",
    "\n",
    "**Fixtures are defined with `@pytest.fixture` decorator** and offers useful builtin fixtures\n",
    "\n",
    "- **capfd** : Capture, as text, output to file descriptors 1 and 2\n",
    "- **capfdbinary**: capture as bytes and do same as capfd\n",
    "- **caplog** : Control logging and access log entries\n",
    "- **capsys** : Capture, as text, output to `sys.stdout` and `sys.stderr`\n",
    "- **capsybinary** : capture as bytes and output to `sys.stdout` and `sys.stderr`\n",
    "- **cache** : store and retreive values across pytest runs\n",
    "- **doctest_namespace** : Provice dict injected into the doctests namespace\n",
    "- **monkeypatch** : temporarily modify classes, func, and dict, `os.environ`\n",
    "- **pytestconfig** : acesses config values, pluginmanager and plugin hooks\n",
    "- **record_property** : add extra props to test\n",
    "- **record_testsuite_property** : add propts to test suite\n",
    "- **recwarn** : record warnings \n",
    "- **request** : provide information on executing test function\n",
    "- **testdir** : provide a temp test directory to aid running, and testing, pytest plugins\n",
    "- **tmp_path** : Provide a `pathlib.Path` object to tmp dir, which is unique to each test func\n",
    "- **tmp_path_factory** : make sesion scoped temp directories and return `pathlib.Path` obj\n",
    "- **tmpdir** - old, replaced by tmp_path\n",
    "- **tmpdir_factory** - old, replaced by tmp_path_factory\n",
    "\n"
   ]
  },
  {
   "cell_type": "markdown",
   "metadata": {},
   "source": [
    "## Fixtures as function arguments\n",
    "Test functions can recv fixture objects by naming them as an input argument. For each argument name, a fixture function with the name provides the fixture obj. Fixture functions are reg by marking with @pytest.fixture."
   ]
  },
  {
   "cell_type": "code",
   "execution_count": null,
   "metadata": {},
   "outputs": [],
   "source": [
    "# Simple test with fixtures\n",
    "# Testing smtp\n",
    "import pytest\n",
    "\n",
    "@pytest.fixture\n",
    "def smtp_connection():\n",
    "    import smtplib\n",
    "    return smtplib.SMTP(\"stmp.gmail.com\", 587, timeout = 5)\n",
    "\n",
    "# Test func\n",
    "def test_smtp(smtp_connection):\n",
    "    response, msg = stmp.connection.ehlo()\n",
    "    assert response = 250\n",
    "    assert 0"
   ]
  }
 ],
 "metadata": {
  "kernelspec": {
   "display_name": "Python 3",
   "language": "python",
   "name": "python3"
  },
  "language_info": {
   "codemirror_mode": {
    "name": "ipython",
    "version": 3
   },
   "file_extension": ".py",
   "mimetype": "text/x-python",
   "name": "python",
   "nbconvert_exporter": "python",
   "pygments_lexer": "ipython3",
   "version": "3.8.3"
  }
 },
 "nbformat": 4,
 "nbformat_minor": 4
}
