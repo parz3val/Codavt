{
 "cells": [
  {
   "cell_type": "markdown",
   "metadata": {},
   "source": [
    "# Twilio Pricing Research\n",
    "\n",
    "## Pricing structure\n",
    "\n",
    "Twilio has two different price models for the different suite of products.\n",
    "\n",
    "- Recurring Payments - static assets and products\n",
    "    - For phone numbers\n",
    "\n",
    "- Pay as you go -for cPaaS services. (SMS, Voice, `Recording`)\n",
    "    - For the minutes and SMS sent\n",
    "\n",
    "> > Note : The per minute charges and the rates for the phone numbers are different for different countries.\n",
    "\n",
    "## Different editions of Twilio\n",
    "\n",
    "`https://www.twilio.com/editions`\n",
    "\n",
    "- Security Edition\n",
    "- Data Edition\n",
    "- Administration Edition\n",
    "- Enterprise Edition\n",
    "\n",
    "- CPAS Increasing costs:\n",
    "\n",
    "## Discounts\n",
    "\n",
    "- Volume Discounts\n",
    "  Volume discounts are offered automatically after the volume limit is reached.\n",
    "\n",
    "- Commited use discounts\n"
   ]
  },
  {
   "cell_type": "markdown",
   "metadata": {},
   "source": [
    "## Pricing Functions"
   ]
  },
  {
   "cell_type": "code",
   "execution_count": 1,
   "metadata": {},
   "outputs": [],
   "source": [
    "from pricing import *"
   ]
  },
  {
   "cell_type": "code",
   "execution_count": 2,
   "metadata": {},
   "outputs": [
    {
     "data": {
      "text/plain": [
       "1200.0"
      ]
     },
     "execution_count": 2,
     "metadata": {},
     "output_type": "execute_result"
    }
   ],
   "source": [
    "# Get the bulk price for phones australia\n",
    "# quantity : 200\n",
    "# type = Mobile\n",
    "bulk_price(quant = 200.00, price = float(nums_price_from_country(country = \"Australia\", num_type = \"Mobile\")))"
   ]
  },
  {
   "cell_type": "code",
   "execution_count": 3,
   "metadata": {},
   "outputs": [
    {
     "name": "stdout",
     "output_type": "stream",
     "text": [
      "{'Programmable Outbound Minute - Australia': '480.0', 'Programmable Outbound Minute - Australia - Major Cities': '480.0', 'Programmable Outbound Minute - Australia - Mobile': '1500.0', 'Programmable Outbound Minute - Australia - Shared Cost Service': '3600.0'}\n"
     ]
    }
   ],
   "source": [
    "# Get the bulk price for 20000 minutes of call to australia\n",
    "aus_price = voice_price_from_country(\"Australia\")\n",
    "print(bulk_voice(quant = 20000.00, prices = aus_price))"
   ]
  },
  {
   "cell_type": "code",
   "execution_count": 4,
   "metadata": {},
   "outputs": [],
   "source": [
    "import pickle\n",
    "countries = []\n",
    "with open('countries.list', 'rb') as file:\n",
    "    countries = country = pickle.load(file)"
   ]
  },
  {
   "cell_type": "code",
   "execution_count": 13,
   "metadata": {},
   "outputs": [
    {
     "name": "stdout",
     "output_type": "stream",
     "text": [
      "Argentina : 8.00\n",
      "Australia : 2.50\n",
      "Bosnia and Herzegovina : 42.00\n",
      "Barbados : 27.00\n",
      "Bulgaria : 3.00\n",
      "Brazil : 4.00\n",
      "Canada : 1.00\n",
      "Switzerland : 1.00\n",
      "Chile : 7.00\n",
      "Colombia : 14.00\n",
      "Czech Republic : 1.50\n",
      "Dominican Republic : 7.00\n",
      "Algeria : 33.00\n",
      "Ecuador : 34.00\n",
      "Estonia : 1.00\n",
      "France : 1.00\n",
      "United Kingdom : 1.00\n",
      "Grenada : 27.00\n",
      "Georgia : 18.00\n",
      "Greece : 1.00\n",
      "Hungary : 4.00\n",
      "Indonesia : 23.00\n",
      "Israel : 4.00\n",
      "Iceland : 5.00\n",
      "Jamaica : 27.00\n",
      "Japan : 4.50\n",
      "Kenya : 16.00\n",
      "Cayman Islands : 29.00\n",
      "Lithuania : 1.00\n",
      "Luxembourg : 3.00\n",
      "Mali : 38.00\n",
      "Mexico : 6.00\n",
      "Namibia : 33.00\n",
      "Nigeria : 35.00\n",
      "Nicaragua : 50.00\n",
      "New Zealand : 3.00\n",
      "Panama : 8.00\n",
      "Philippines : 15.00\n",
      "Puerto Rico : 3.00\n",
      "Portugal : 1.00\n",
      "Romania : 3.00\n",
      "Sudan : 50.00\n",
      "Sweden : 1.00\n",
      "Slovenia : 5.00\n",
      "Slovakia : 1.00\n",
      "El Salvador : 9.00\n",
      "Thailand : 25.00\n",
      "Tunisia : 120.00\n",
      "Trinidad and Tobago : 27.00\n",
      "Tanzania : 40.00\n",
      "Uganda : 40.00\n",
      "United States : 1.00\n",
      "Vietnam : 36.00\n",
      "South Africa : 1.50\n"
     ]
    }
   ],
   "source": [
    "# Prices for the local numbers\n",
    "for item in country:\n",
    "    price = nums_price_from_country(country=item, num_type=\"Local\")\n",
    "    if price:\n",
    "        print(f\"{item} : {price}\")"
   ]
  },
  {
   "cell_type": "code",
   "execution_count": 14,
   "metadata": {},
   "outputs": [
    {
     "name": "stdout",
     "output_type": "stream",
     "text": [
      "Austria : 6.00\n",
      "Australia : 6.00\n",
      "Belgium : 1.00\n",
      "Benin : 27.00\n",
      "Switzerland : 8.00\n",
      "Chile : 10.00\n",
      "Czech Republic : 12.00\n",
      "Denmark : 15.00\n",
      "Estonia : 3.00\n",
      "France : 2.00\n",
      "United Kingdom : 1.00\n",
      "Ghana : 27.00\n",
      "Guinea : 27.00\n",
      "Hong Kong : 15.00\n",
      "Hungary : 35.00\n",
      "Israel : 14.00\n",
      "Italy : 25.00\n",
      "Lithuania : 4.00\n",
      "Macau : 70.00\n",
      "Mauritius : 60.00\n",
      "Malaysia : 5.00\n",
      "Netherlands : 5.00\n",
      "Philippines : 120.00\n",
      "Poland : 3.00\n",
      "Portugal : 15.00\n",
      "Sweden : 2.00\n",
      "Singapore : 75.00\n",
      "Vietnam : 20.00\n",
      "South Africa : 4.00\n"
     ]
    }
   ],
   "source": [
    "# Prices for the mobile numbers\n",
    "# Prices for the local numbers\n",
    "for item in country:\n",
    "    price = nums_price_from_country(country=item, num_type=\"Mobile\")\n",
    "    if price:\n",
    "        print(f\"{item} : {price}\")"
   ]
  },
  {
   "cell_type": "code",
   "execution_count": null,
   "metadata": {},
   "outputs": [],
   "source": []
  }
 ],
 "metadata": {
  "kernelspec": {
   "display_name": "Python 3",
   "language": "python",
   "name": "python3"
  },
  "language_info": {
   "codemirror_mode": {
    "name": "ipython",
    "version": 3
   },
   "file_extension": ".py",
   "mimetype": "text/x-python",
   "name": "python",
   "nbconvert_exporter": "python",
   "pygments_lexer": "ipython3",
   "version": "3.8.3"
  }
 },
 "nbformat": 4,
 "nbformat_minor": 4
}
