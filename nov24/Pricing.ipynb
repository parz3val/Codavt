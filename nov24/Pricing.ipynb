{
 "cells": [
  {
   "cell_type": "markdown",
   "metadata": {},
   "source": [
    "# Twilio Pricing Research\n",
    "\n",
    "## Pricing structure\n",
    "\n",
    "Twilio has two different price models for the different suite of products.\n",
    "\n",
    "- Recurring Payments - static assets and products\n",
    "    - For phone numbers\n",
    "\n",
    "- Pay as you go -for cPaaS services. (SMS, Voice, `Recording`)\n",
    "    - For the minutes and SMS sent\n",
    "\n",
    "> > Note : The per minute charges and the rates for the phone numbers are different for different countries.\n",
    "\n",
    "## Different editions of Twilio\n",
    "\n",
    "`https://www.twilio.com/editions`\n",
    "\n",
    "- Security Edition\n",
    "- Data Edition\n",
    "- Administration Edition\n",
    "- Enterprise Edition\n",
    "\n",
    "- CPAS Increasing costs:\n",
    "\n",
    "## Discounts\n",
    "\n",
    "- Volume Discounts\n",
    "  Volume discounts are offered automatically after the volume limit is reached.\n",
    "\n",
    "- Commited use discounts\n"
   ]
  },
  {
   "cell_type": "markdown",
   "metadata": {},
   "source": [
    "## Pricing Functions"
   ]
  },
  {
   "cell_type": "code",
   "execution_count": 181,
   "metadata": {},
   "outputs": [],
   "source": [
    "from pricing import *"
   ]
  },
  {
   "cell_type": "code",
   "execution_count": 183,
   "metadata": {},
   "outputs": [
    {
     "data": {
      "text/plain": [
       "1200.0"
      ]
     },
     "execution_count": 183,
     "metadata": {},
     "output_type": "execute_result"
    }
   ],
   "source": [
    "# Get the bulk price for phones australia\n",
    "# quantity : 200\n",
    "# type = Mobile\n",
    "bulk_price(quant = 200.00, price = float(nums_price_from_country(country = \"Australia\", num_type = \"Mobile\")))"
   ]
  },
  {
   "cell_type": "code",
   "execution_count": 185,
   "metadata": {},
   "outputs": [
    {
     "name": "stdout",
     "output_type": "stream",
     "text": [
      "{'Programmable Outbound Minute - Australia': '480.0', 'Programmable Outbound Minute - Australia - Major Cities': '480.0', 'Programmable Outbound Minute - Australia - Mobile': '1500.0', 'Programmable Outbound Minute - Australia - Shared Cost Service': '3600.0'}\n"
     ]
    }
   ],
   "source": [
    "# Get the bulk price for 20000 minutes of call to australia\n",
    "aus_price = voice_price_from_country(\"Australia\")\n",
    "print(bulk_voice(quant = 20000.00, prices = aus_price))"
   ]
  },
  {
   "cell_type": "code",
   "execution_count": 187,
   "metadata": {},
   "outputs": [
    {
     "data": {
      "text/plain": [
       "{'Programmable Outbound Minute - Australia': '0.02400',\n",
       " 'Programmable Outbound Minute - Australia - Major Cities': '0.02400',\n",
       " 'Programmable Outbound Minute - Australia - Mobile': '0.07500',\n",
       " 'Programmable Outbound Minute - Australia - Shared Cost Service': '0.18000'}"
      ]
     },
     "execution_count": 187,
     "metadata": {},
     "output_type": "execute_result"
    }
   ],
   "source": [
    "aus_price"
   ]
  },
  {
   "cell_type": "code",
   "execution_count": null,
   "metadata": {},
   "outputs": [],
   "source": []
  }
 ],
 "metadata": {
  "kernelspec": {
   "display_name": "Python 3",
   "language": "python",
   "name": "python3"
  },
  "language_info": {
   "codemirror_mode": {
    "name": "ipython",
    "version": 3
   },
   "file_extension": ".py",
   "mimetype": "text/x-python",
   "name": "python",
   "nbconvert_exporter": "python",
   "pygments_lexer": "ipython3",
   "version": "3.8.3"
  }
 },
 "nbformat": 4,
 "nbformat_minor": 4
}
